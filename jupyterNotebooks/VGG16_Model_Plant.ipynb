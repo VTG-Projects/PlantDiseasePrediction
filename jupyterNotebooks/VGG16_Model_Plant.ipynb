{
  "cells": [
    {
      "cell_type": "code",
      "execution_count": null,
      "metadata": {
        "colab": {
          "base_uri": "https://localhost:8080/"
        },
        "id": "oKGh_NF671kV",
        "outputId": "457be3be-bdce-434e-edf2-36befdab5789"
      },
      "outputs": [
        {
          "name": "stdout",
          "output_type": "stream",
          "text": [
            "Mounted at /content/drive\n"
          ]
        }
      ],
      "source": [
        "from google.colab import drive\n",
        "drive.mount('/content/drive')"
      ]
    },
    {
      "cell_type": "code",
      "execution_count": 1,
      "metadata": {
        "id": "KsSE-0YI72z4"
      },
      "outputs": [],
      "source": [
        "import tensorflow as tf\n",
        "from tensorflow import keras\n",
        "from keras.layers import Input, Lambda, Dense, Flatten\n",
        "from keras.models import Model\n",
        "from keras.applications.vgg16 import VGG16\n",
        "from keras.applications.vgg16 import preprocess_input\n",
        "from keras.preprocessing import image\n",
        "from keras.models import Sequential\n",
        "import numpy as np\n",
        "from glob import glob\n",
        "import matplotlib.pyplot as plt\n",
        "\n",
        "import warnings\n",
        "warnings.filterwarnings(\"ignore\", category=FutureWarning)"
      ]
    },
    {
      "cell_type": "code",
      "execution_count": 2,
      "metadata": {
        "id": "YsK7ocOm78PW"
      },
      "outputs": [],
      "source": [
        "batch_size = 64\n",
        "img_height = 224\n",
        "img_width = 224"
      ]
    },
    {
      "cell_type": "code",
      "execution_count": 3,
      "metadata": {
        "colab": {
          "base_uri": "https://localhost:8080/"
        },
        "id": "5UAvw0As9rff",
        "outputId": "b5b58cf7-e3a2-4cda-d82f-3517993f5582"
      },
      "outputs": [
        {
          "output_type": "stream",
          "name": "stdout",
          "text": [
            "Found 33111 files belonging to 41 classes.\n",
            "Using 26489 files for training.\n"
          ]
        }
      ],
      "source": [
        "train_ds = tf.keras.preprocessing.image_dataset_from_directory('/content/drive/MyDrive/Data_Soil/dataset/train',\n",
        "  validation_split=0.2,\n",
        "  subset=\"training\",\n",
        "  seed=123,\n",
        "  image_size=(img_height, img_width),\n",
        "  batch_size=batch_size)"
      ]
    },
    {
      "cell_type": "code",
      "execution_count": 4,
      "metadata": {
        "colab": {
          "base_uri": "https://localhost:8080/"
        },
        "id": "WoisQZ1z-dN3",
        "outputId": "f3385e16-c21c-42b9-c5b4-976096384753"
      },
      "outputs": [
        {
          "output_type": "stream",
          "name": "stdout",
          "text": [
            "Found 8339 files belonging to 41 classes.\n",
            "Using 1667 files for validation.\n"
          ]
        }
      ],
      "source": [
        "test_ds = tf.keras.preprocessing.image_dataset_from_directory('/content/drive/MyDrive/Data_Soil/dataset/test',\n",
        "  validation_split=0.2,\n",
        "  subset=\"validation\",\n",
        "  seed=123,\n",
        "  image_size=(img_height, img_width),\n",
        "  batch_size=batch_size)"
      ]
    },
    {
      "cell_type": "code",
      "execution_count": 5,
      "metadata": {
        "id": "tATDO0uh8NMD",
        "colab": {
          "base_uri": "https://localhost:8080/"
        },
        "outputId": "760a63ba-21f7-4d53-efa6-05bf3e40c4c5"
      },
      "outputs": [
        {
          "output_type": "stream",
          "name": "stdout",
          "text": [
            "Downloading data from https://storage.googleapis.com/tensorflow/keras-applications/vgg16/vgg16_weights_tf_dim_ordering_tf_kernels_notop.h5\n",
            "58892288/58889256 [==============================] - 1s 0us/step\n",
            "58900480/58889256 [==============================] - 1s 0us/step\n"
          ]
        }
      ],
      "source": [
        "VGG = VGG16(input_shape=(224,224,3), weights='imagenet', include_top=False)"
      ]
    },
    {
      "cell_type": "code",
      "execution_count": 6,
      "metadata": {
        "colab": {
          "base_uri": "https://localhost:8080/"
        },
        "id": "oq6UTcNd8STv",
        "outputId": "e6eef03f-7e25-41b3-d380-c15b8719e5aa"
      },
      "outputs": [
        {
          "output_type": "execute_result",
          "data": {
            "text/plain": [
              "<KerasTensor: shape=(None, 224, 224, 3) dtype=float32 (created by layer 'input_1')>"
            ]
          },
          "metadata": {},
          "execution_count": 6
        }
      ],
      "source": [
        "VGG.input"
      ]
    },
    {
      "cell_type": "code",
      "execution_count": 7,
      "metadata": {
        "id": "Jwa4QuyL8Wgf"
      },
      "outputs": [],
      "source": [
        "VGG.trainable = False"
      ]
    },
    {
      "cell_type": "code",
      "execution_count": 8,
      "metadata": {
        "colab": {
          "base_uri": "https://localhost:8080/"
        },
        "id": "CS8SB73t8Z7J",
        "outputId": "a99c9a39-4adc-4a0d-dc50-ba2441d255cf"
      },
      "outputs": [
        {
          "output_type": "stream",
          "name": "stdout",
          "text": [
            "Model: \"sequential\"\n",
            "_________________________________________________________________\n",
            " Layer (type)                Output Shape              Param #   \n",
            "=================================================================\n",
            " vgg16 (Functional)          (None, 7, 7, 512)         14714688  \n",
            "                                                                 \n",
            " flatten (Flatten)           (None, 25088)             0         \n",
            "                                                                 \n",
            " dense (Dense)               (None, 256)               6422784   \n",
            "                                                                 \n",
            " dense_1 (Dense)             (None, 256)               65792     \n",
            "                                                                 \n",
            " dense_2 (Dense)             (None, 41)                10537     \n",
            "                                                                 \n",
            "=================================================================\n",
            "Total params: 21,213,801\n",
            "Trainable params: 6,499,113\n",
            "Non-trainable params: 14,714,688\n",
            "_________________________________________________________________\n"
          ]
        }
      ],
      "source": [
        "model = keras.Sequential([\n",
        "      VGG,\n",
        "      keras.layers.Flatten(),\n",
        "      keras.layers.Dense(units = 256, activation = \"relu\"),\n",
        "      keras.layers.Dense(units = 256, activation = \"relu\"),      \n",
        "      keras.layers.Dense(units = 41, activation = \"softmax\"),\n",
        "])\n",
        "model.summary()"
      ]
    },
    {
      "cell_type": "code",
      "execution_count": 9,
      "metadata": {
        "colab": {
          "base_uri": "https://localhost:8080/",
          "height": 409
        },
        "id": "KCuFoL5c6eUJ",
        "outputId": "a55b37aa-8b48-49b9-d77a-2613bb4248df"
      },
      "outputs": [
        {
          "output_type": "execute_result",
          "data": {
            "text/plain": [
              "<IPython.core.display.Image object>"
            ],
            "image/png": "[encoded data removed]"
          },
          "metadata": {},
          "execution_count": 9
        }
      ],
      "source": [
        "tf.keras.utils.plot_model(model, show_shapes=True, show_layer_names=True, rankdir='TB', expand_nested = False, dpi=60)"
      ]
    },
    {
      "cell_type": "code",
      "execution_count": 10,
      "metadata": {
        "id": "3V-2Nx4X8gsU"
      },
      "outputs": [],
      "source": [
        "model.compile(loss='sparse_categorical_crossentropy',\n",
        "              optimizer='adam',\n",
        "              metrics=['accuracy'])"
      ]
    },
    {
      "cell_type": "code",
      "execution_count": null,
      "metadata": {
        "colab": {
          "base_uri": "https://localhost:8080/"
        },
        "id": "Pe4rh6zKEm4y",
        "outputId": "be72d221-b5e6-4ee1-95ca-7d857ee7731b"
      },
      "outputs": [
        {
          "output_type": "stream",
          "name": "stdout",
          "text": [
            "Epoch 1/50\n",
            "414/414 [==============================] - 3871s 9s/step - loss: 1.4320 - accuracy: 0.7842 - val_loss: 0.5024 - val_accuracy: 0.8602\n",
            "Epoch 2/50\n",
            "414/414 [==============================] - 251s 602ms/step - loss: 0.3199 - accuracy: 0.9205 - val_loss: 0.6007 - val_accuracy: 0.8854\n",
            "Epoch 3/50\n",
            "414/414 [==============================] - 251s 602ms/step - loss: 0.2540 - accuracy: 0.9447 - val_loss: 0.9691 - val_accuracy: 0.8536\n",
            "Epoch 4/50\n",
            "414/414 [==============================] - 251s 603ms/step - loss: 0.2265 - accuracy: 0.9535 - val_loss: 0.9426 - val_accuracy: 0.8800\n",
            "Epoch 5/50\n",
            "414/414 [==============================] - 250s 601ms/step - loss: 0.1928 - accuracy: 0.9633 - val_loss: 0.6559 - val_accuracy: 0.9106\n",
            "Epoch 6/50\n",
            "414/414 [==============================] - 250s 601ms/step - loss: 0.1593 - accuracy: 0.9683 - val_loss: 0.8562 - val_accuracy: 0.8986\n",
            "Epoch 7/50\n",
            "414/414 [==============================] - 251s 602ms/step - loss: 0.1251 - accuracy: 0.9758 - val_loss: 0.8042 - val_accuracy: 0.9214\n",
            "Epoch 8/50\n",
            "414/414 [==============================] - 250s 601ms/step - loss: 0.1207 - accuracy: 0.9767 - val_loss: 0.8561 - val_accuracy: 0.9052\n",
            "Epoch 9/50\n",
            "414/414 [==============================] - 250s 599ms/step - loss: 0.0917 - accuracy: 0.9820 - val_loss: 0.9742 - val_accuracy: 0.8998\n",
            "Epoch 10/50\n",
            "414/414 [==============================] - 250s 600ms/step - loss: 0.0804 - accuracy: 0.9849 - val_loss: 0.8149 - val_accuracy: 0.9190\n",
            "Epoch 11/50\n",
            "414/414 [==============================] - 250s 601ms/step - loss: 0.1143 - accuracy: 0.9817 - val_loss: 0.8963 - val_accuracy: 0.9142\n",
            "Epoch 12/50\n",
            "414/414 [==============================] - 250s 601ms/step - loss: 0.0906 - accuracy: 0.9837 - val_loss: 0.7927 - val_accuracy: 0.9184\n",
            "Epoch 13/50\n",
            "414/414 [==============================] - 250s 600ms/step - loss: 0.0919 - accuracy: 0.9833 - val_loss: 0.9276 - val_accuracy: 0.8986\n",
            "Epoch 14/50\n",
            "414/414 [==============================] - 250s 600ms/step - loss: 0.0729 - accuracy: 0.9864 - val_loss: 0.8928 - val_accuracy: 0.9118\n",
            "Epoch 15/50\n",
            "414/414 [==============================] - 250s 600ms/step - loss: 0.0692 - accuracy: 0.9867 - val_loss: 1.2621 - val_accuracy: 0.9046\n",
            "Epoch 16/50\n",
            "414/414 [==============================] - 251s 602ms/step - loss: 0.0845 - accuracy: 0.9859 - val_loss: 1.0317 - val_accuracy: 0.9214\n",
            "Epoch 17/50\n",
            "414/414 [==============================] - 250s 600ms/step - loss: 0.0623 - accuracy: 0.9886 - val_loss: 1.0833 - val_accuracy: 0.9022\n",
            "Epoch 18/50\n",
            "414/414 [==============================] - 250s 601ms/step - loss: 0.0698 - accuracy: 0.9877 - val_loss: 1.0385 - val_accuracy: 0.9118\n",
            "Epoch 19/50\n",
            "414/414 [==============================] - 250s 601ms/step - loss: 0.0619 - accuracy: 0.9903 - val_loss: 1.0991 - val_accuracy: 0.9124\n",
            "Epoch 20/50\n",
            "414/414 [==============================] - 250s 601ms/step - loss: 0.0456 - accuracy: 0.9922 - val_loss: 1.1351 - val_accuracy: 0.9040\n",
            "Epoch 21/50\n",
            "414/414 [==============================] - 250s 600ms/step - loss: 0.0827 - accuracy: 0.9875 - val_loss: 1.1257 - val_accuracy: 0.9106\n",
            "Epoch 22/50\n",
            "414/414 [==============================] - 251s 602ms/step - loss: 0.0606 - accuracy: 0.9902 - val_loss: 1.4500 - val_accuracy: 0.9070\n",
            "Epoch 23/50\n",
            "414/414 [==============================] - 251s 601ms/step - loss: 0.0603 - accuracy: 0.9903 - val_loss: 1.0426 - val_accuracy: 0.9214\n",
            "Epoch 24/50\n",
            "414/414 [==============================] - 250s 601ms/step - loss: 0.0615 - accuracy: 0.9896 - val_loss: 1.4849 - val_accuracy: 0.9154\n",
            "Epoch 25/50\n",
            "414/414 [==============================] - 250s 601ms/step - loss: 0.0639 - accuracy: 0.9903 - val_loss: 1.2024 - val_accuracy: 0.9178\n",
            "Epoch 26/50\n",
            "414/414 [==============================] - 250s 601ms/step - loss: 0.0623 - accuracy: 0.9906 - val_loss: 1.1829 - val_accuracy: 0.9238\n",
            "Epoch 27/50\n",
            "414/414 [==============================] - 250s 600ms/step - loss: 0.0409 - accuracy: 0.9933 - val_loss: 1.0889 - val_accuracy: 0.9160\n",
            "Epoch 28/50\n",
            "414/414 [==============================] - 250s 601ms/step - loss: 0.0707 - accuracy: 0.9905 - val_loss: 1.4590 - val_accuracy: 0.9016\n",
            "Epoch 29/50\n",
            "252/414 [=================>............] - ETA: 1:30 - loss: 0.0613 - accuracy: 0.9897"
          ]
        }
      ],
      "source": [
        "epochs=50\n",
        "history = model.fit(\n",
        "  train_ds,\n",
        "  validation_data=test_ds,\n",
        "  verbose=1,\n",
        "  epochs=epochs\n",
        ")"
      ]
    },
    {
      "cell_type": "code",
      "execution_count": null,
      "metadata": {
        "id": "GnXb5JDgHvD_"
      },
      "outputs": [],
      "source": [
        "acc = history.history['accuracy']\n",
        "val_acc = history.history['val_accuracy']\n",
        "\n",
        "loss = history.history['loss']\n",
        "val_loss = history.history['val_loss']\n",
        "\n",
        "epochs_range = range(50)\n",
        "\n",
        "plt.figure(figsize=(20, 10))\n",
        "plt.subplot(1, 2, 1)\n",
        "plt.plot(epochs_range, acc, label='Training Accuracy')\n",
        "plt.plot(epochs_range, val_acc, label='Validation Accuracy')\n",
        "plt.legend(loc='lower right')\n",
        "plt.title('Training and Validation Accuracy')"
      ]
    },
    {
      "cell_type": "code",
      "execution_count": null,
      "metadata": {
        "id": "9WrqoBOa9H2P"
      },
      "outputs": [],
      "source": [
        "plt.subplot(1, 2, 2)\n",
        "plt.plot(epochs_range, loss, label='Training Loss')\n",
        "plt.plot(epochs_range, val_loss, label='Validation Loss')\n",
        "plt.legend(loc='upper right')\n",
        "plt.title('Training and Validation Loss')\n",
        "plt.show()"
      ]
    },
    {
      "cell_type": "code",
      "execution_count": null,
      "metadata": {
        "id": "UyXNiHmK9J3J"
      },
      "outputs": [],
      "source": [
        "tf.keras.models.save_model(model,'/content/drive/MyDrive/VGG16_Plant_Model_Updatedjkn.hdf5')"
      ]
    },
    {
      "cell_type": "code",
      "execution_count": null,
      "metadata": {
        "id": "HGlHZn9JQmyF"
      },
      "outputs": [],
      "source": [
        ""
      ]
    }
  ],
  "metadata": {
    "accelerator": "GPU",
    "colab": {
      "collapsed_sections": [],
      "name": "VGG16_Model_Plant.ipynb",
      "provenance": []
    },
    "kernelspec": {
      "display_name": "Python 3",
      "name": "python3"
    },
    "language_info": {
      "name": "python"
    }
  },
  "nbformat": 4,
  "nbformat_minor": 0
}